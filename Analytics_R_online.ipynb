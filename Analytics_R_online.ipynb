{
 "cells": [
  {
   "cell_type": "markdown",
   "metadata": {
    "ExecuteTime": {
     "end_time": "2019-05-09T19:48:14.035268Z",
     "start_time": "2019-05-09T19:48:13.798Z"
    }
   },
   "source": [
    "## Part I"
   ]
  },
  {
   "cell_type": "markdown",
   "metadata": {},
   "source": [
    "#### Analyze Revenue Data From 2 Airline Companies"
   ]
  },
  {
   "cell_type": "code",
   "execution_count": 1,
   "metadata": {},
   "outputs": [],
   "source": [
    "airline_1 <- read.csv(url('https://raw.githubusercontent.com/ma010/misc/master/airline1.csv'))"
   ]
  },
  {
   "cell_type": "code",
   "execution_count": 2,
   "metadata": {},
   "outputs": [
    {
     "data": {
      "text/html": [
       "<table>\n",
       "<thead><tr><th scope=col>Period</th><th scope=col>Region</th><th scope=col>Revenue..USD.</th></tr></thead>\n",
       "<tbody>\n",
       "\t<tr><td>FY2015       </td><td>Africa       </td><td> 10000000    </td></tr>\n",
       "\t<tr><td>FY2015       </td><td>Asia         </td><td> 20000000    </td></tr>\n",
       "\t<tr><td>FY2015       </td><td>Australia    </td><td> 70000000    </td></tr>\n",
       "\t<tr><td>FY2015       </td><td>Europe       </td><td>120000000    </td></tr>\n",
       "\t<tr><td>FY2015       </td><td>North America</td><td>150000000    </td></tr>\n",
       "\t<tr><td>FY2015       </td><td>South America</td><td> 60000000    </td></tr>\n",
       "\t<tr><td>FY2016       </td><td>Africa       </td><td>  8000000    </td></tr>\n",
       "\t<tr><td>FY2016       </td><td>Asia         </td><td> 16000000    </td></tr>\n",
       "\t<tr><td>FY2016       </td><td>Australia    </td><td> 56000000    </td></tr>\n",
       "\t<tr><td>FY2016       </td><td>Europe       </td><td> 96000000    </td></tr>\n",
       "\t<tr><td>FY2016       </td><td>North America</td><td>120000000    </td></tr>\n",
       "\t<tr><td>FY2016       </td><td>South America</td><td> 48000000    </td></tr>\n",
       "</tbody>\n",
       "</table>\n"
      ],
      "text/latex": [
       "\\begin{tabular}{r|lll}\n",
       " Period & Region & Revenue..USD.\\\\\n",
       "\\hline\n",
       "\t FY2015        & Africa        &  10000000    \\\\\n",
       "\t FY2015        & Asia          &  20000000    \\\\\n",
       "\t FY2015        & Australia     &  70000000    \\\\\n",
       "\t FY2015        & Europe        & 120000000    \\\\\n",
       "\t FY2015        & North America & 150000000    \\\\\n",
       "\t FY2015        & South America &  60000000    \\\\\n",
       "\t FY2016        & Africa        &   8000000    \\\\\n",
       "\t FY2016        & Asia          &  16000000    \\\\\n",
       "\t FY2016        & Australia     &  56000000    \\\\\n",
       "\t FY2016        & Europe        &  96000000    \\\\\n",
       "\t FY2016        & North America & 120000000    \\\\\n",
       "\t FY2016        & South America &  48000000    \\\\\n",
       "\\end{tabular}\n"
      ],
      "text/markdown": [
       "\n",
       "| Period | Region | Revenue..USD. |\n",
       "|---|---|---|\n",
       "| FY2015        | Africa        |  10000000     |\n",
       "| FY2015        | Asia          |  20000000     |\n",
       "| FY2015        | Australia     |  70000000     |\n",
       "| FY2015        | Europe        | 120000000     |\n",
       "| FY2015        | North America | 150000000     |\n",
       "| FY2015        | South America |  60000000     |\n",
       "| FY2016        | Africa        |   8000000     |\n",
       "| FY2016        | Asia          |  16000000     |\n",
       "| FY2016        | Australia     |  56000000     |\n",
       "| FY2016        | Europe        |  96000000     |\n",
       "| FY2016        | North America | 120000000     |\n",
       "| FY2016        | South America |  48000000     |\n",
       "\n"
      ],
      "text/plain": [
       "   Period Region        Revenue..USD.\n",
       "1  FY2015 Africa         10000000    \n",
       "2  FY2015 Asia           20000000    \n",
       "3  FY2015 Australia      70000000    \n",
       "4  FY2015 Europe        120000000    \n",
       "5  FY2015 North America 150000000    \n",
       "6  FY2015 South America  60000000    \n",
       "7  FY2016 Africa          8000000    \n",
       "8  FY2016 Asia           16000000    \n",
       "9  FY2016 Australia      56000000    \n",
       "10 FY2016 Europe         96000000    \n",
       "11 FY2016 North America 120000000    \n",
       "12 FY2016 South America  48000000    "
      ]
     },
     "metadata": {},
     "output_type": "display_data"
    }
   ],
   "source": [
    "airline_1"
   ]
  },
  {
   "cell_type": "code",
   "execution_count": 20,
   "metadata": {},
   "outputs": [],
   "source": [
    "airline_2 <- read.csv(url('https://raw.githubusercontent.com/ma010/misc/master/airline2.csv'))"
   ]
  },
  {
   "cell_type": "code",
   "execution_count": 21,
   "metadata": {},
   "outputs": [
    {
     "data": {
      "text/html": [
       "<table>\n",
       "<thead><tr><th scope=col>Period</th><th scope=col>Region</th><th scope=col>Revenue..USD.</th></tr></thead>\n",
       "<tbody>\n",
       "\t<tr><td>FY2015   </td><td>Africa   </td><td> 15000000</td></tr>\n",
       "\t<tr><td>FY2015   </td><td>Asia     </td><td>100000000</td></tr>\n",
       "\t<tr><td>FY2015   </td><td>Australia</td><td> 50000000</td></tr>\n",
       "\t<tr><td>FY2015   </td><td>Europe   </td><td> 40000000</td></tr>\n",
       "\t<tr><td>FY2016   </td><td>Africa   </td><td> 10500000</td></tr>\n",
       "\t<tr><td>FY2016   </td><td>Asia     </td><td> 70000000</td></tr>\n",
       "\t<tr><td>FY2016   </td><td>Australia</td><td> 35000000</td></tr>\n",
       "\t<tr><td>FY2016   </td><td>Europe   </td><td> 28000000</td></tr>\n",
       "</tbody>\n",
       "</table>\n"
      ],
      "text/latex": [
       "\\begin{tabular}{r|lll}\n",
       " Period & Region & Revenue..USD.\\\\\n",
       "\\hline\n",
       "\t FY2015    & Africa    &  15000000\\\\\n",
       "\t FY2015    & Asia      & 100000000\\\\\n",
       "\t FY2015    & Australia &  50000000\\\\\n",
       "\t FY2015    & Europe    &  40000000\\\\\n",
       "\t FY2016    & Africa    &  10500000\\\\\n",
       "\t FY2016    & Asia      &  70000000\\\\\n",
       "\t FY2016    & Australia &  35000000\\\\\n",
       "\t FY2016    & Europe    &  28000000\\\\\n",
       "\\end{tabular}\n"
      ],
      "text/markdown": [
       "\n",
       "| Period | Region | Revenue..USD. |\n",
       "|---|---|---|\n",
       "| FY2015    | Africa    |  15000000 |\n",
       "| FY2015    | Asia      | 100000000 |\n",
       "| FY2015    | Australia |  50000000 |\n",
       "| FY2015    | Europe    |  40000000 |\n",
       "| FY2016    | Africa    |  10500000 |\n",
       "| FY2016    | Asia      |  70000000 |\n",
       "| FY2016    | Australia |  35000000 |\n",
       "| FY2016    | Europe    |  28000000 |\n",
       "\n"
      ],
      "text/plain": [
       "  Period Region    Revenue..USD.\n",
       "1 FY2015 Africa     15000000    \n",
       "2 FY2015 Asia      100000000    \n",
       "3 FY2015 Australia  50000000    \n",
       "4 FY2015 Europe     40000000    \n",
       "5 FY2016 Africa     10500000    \n",
       "6 FY2016 Asia       70000000    \n",
       "7 FY2016 Australia  35000000    \n",
       "8 FY2016 Europe     28000000    "
      ]
     },
     "metadata": {},
     "output_type": "display_data"
    }
   ],
   "source": [
    "airline_2"
   ]
  },
  {
   "cell_type": "markdown",
   "metadata": {},
   "source": [
    "#### Question 1. What is the average revenue for Airline1 in different regions?"
   ]
  },
  {
   "cell_type": "code",
   "execution_count": 13,
   "metadata": {},
   "outputs": [],
   "source": []
  },
  {
   "cell_type": "markdown",
   "metadata": {},
   "source": [
    "#### Question 2. Where does Airline2 have the largest revenue?"
   ]
  },
  {
   "cell_type": "code",
   "execution_count": null,
   "metadata": {},
   "outputs": [],
   "source": []
  },
  {
   "cell_type": "markdown",
   "metadata": {},
   "source": [
    "#### Question 3. For periods and regions the two airlines both served, what is the combined revenue of Airline 1 and Airline 2 for each region in each period? (Join Tables)"
   ]
  },
  {
   "cell_type": "code",
   "execution_count": null,
   "metadata": {},
   "outputs": [],
   "source": []
  }
 ],
 "metadata": {
  "kernelspec": {
   "display_name": "R",
   "language": "R",
   "name": "ir"
  },
  "language_info": {
   "codemirror_mode": "r",
   "file_extension": ".r",
   "mimetype": "text/x-r-source",
   "name": "R",
   "pygments_lexer": "r",
   "version": "3.4.3"
  }
 },
 "nbformat": 4,
 "nbformat_minor": 2
}
