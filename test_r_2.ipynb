{
 "cells": [
  {
   "cell_type": "markdown",
   "metadata": {},
   "source": [
    "#### This notebook is running with R kernel. It uses standard R language (Version `2018-07-02`, `Feather Spray`) (https://cran.r-project.org)"
   ]
  },
  {
   "cell_type": "code",
   "execution_count": 1,
   "metadata": {},
   "outputs": [],
   "source": [
    "airline_1 <- read.csv(url('https://raw.githubusercontent.com/ma010/misc/master/airline1.csv'))"
   ]
  },
  {
   "cell_type": "code",
   "execution_count": 2,
   "metadata": {},
   "outputs": [
    {
     "data": {
      "text/html": [
       "<table>\n",
       "<thead><tr><th scope=col>Period</th><th scope=col>Region</th><th scope=col>Revenue..USD.</th></tr></thead>\n",
       "<tbody>\n",
       "\t<tr><td>FY2015       </td><td>Africa       </td><td> 10000000    </td></tr>\n",
       "\t<tr><td>FY2015       </td><td>Asia         </td><td> 20000000    </td></tr>\n",
       "\t<tr><td>FY2015       </td><td>Australia    </td><td> 70000000    </td></tr>\n",
       "\t<tr><td>FY2015       </td><td>Europe       </td><td>120000000    </td></tr>\n",
       "\t<tr><td>FY2015       </td><td>North America</td><td>150000000    </td></tr>\n",
       "\t<tr><td>FY2015       </td><td>South America</td><td> 60000000    </td></tr>\n",
       "\t<tr><td>FY2016       </td><td>Africa       </td><td>  8000000    </td></tr>\n",
       "\t<tr><td>FY2016       </td><td>Asia         </td><td> 16000000    </td></tr>\n",
       "\t<tr><td>FY2016       </td><td>Australia    </td><td> 56000000    </td></tr>\n",
       "\t<tr><td>FY2016       </td><td>Europe       </td><td> 96000000    </td></tr>\n",
       "\t<tr><td>FY2016       </td><td>North America</td><td>120000000    </td></tr>\n",
       "\t<tr><td>FY2016       </td><td>South America</td><td> 48000000    </td></tr>\n",
       "</tbody>\n",
       "</table>\n"
      ],
      "text/latex": [
       "\\begin{tabular}{r|lll}\n",
       " Period & Region & Revenue..USD.\\\\\n",
       "\\hline\n",
       "\t FY2015        & Africa        &  10000000    \\\\\n",
       "\t FY2015        & Asia          &  20000000    \\\\\n",
       "\t FY2015        & Australia     &  70000000    \\\\\n",
       "\t FY2015        & Europe        & 120000000    \\\\\n",
       "\t FY2015        & North America & 150000000    \\\\\n",
       "\t FY2015        & South America &  60000000    \\\\\n",
       "\t FY2016        & Africa        &   8000000    \\\\\n",
       "\t FY2016        & Asia          &  16000000    \\\\\n",
       "\t FY2016        & Australia     &  56000000    \\\\\n",
       "\t FY2016        & Europe        &  96000000    \\\\\n",
       "\t FY2016        & North America & 120000000    \\\\\n",
       "\t FY2016        & South America &  48000000    \\\\\n",
       "\\end{tabular}\n"
      ],
      "text/markdown": [
       "\n",
       "| Period | Region | Revenue..USD. |\n",
       "|---|---|---|\n",
       "| FY2015        | Africa        |  10000000     |\n",
       "| FY2015        | Asia          |  20000000     |\n",
       "| FY2015        | Australia     |  70000000     |\n",
       "| FY2015        | Europe        | 120000000     |\n",
       "| FY2015        | North America | 150000000     |\n",
       "| FY2015        | South America |  60000000     |\n",
       "| FY2016        | Africa        |   8000000     |\n",
       "| FY2016        | Asia          |  16000000     |\n",
       "| FY2016        | Australia     |  56000000     |\n",
       "| FY2016        | Europe        |  96000000     |\n",
       "| FY2016        | North America | 120000000     |\n",
       "| FY2016        | South America |  48000000     |\n",
       "\n"
      ],
      "text/plain": [
       "   Period Region        Revenue..USD.\n",
       "1  FY2015 Africa         10000000    \n",
       "2  FY2015 Asia           20000000    \n",
       "3  FY2015 Australia      70000000    \n",
       "4  FY2015 Europe        120000000    \n",
       "5  FY2015 North America 150000000    \n",
       "6  FY2015 South America  60000000    \n",
       "7  FY2016 Africa          8000000    \n",
       "8  FY2016 Asia           16000000    \n",
       "9  FY2016 Australia      56000000    \n",
       "10 FY2016 Europe         96000000    \n",
       "11 FY2016 North America 120000000    \n",
       "12 FY2016 South America  48000000    "
      ]
     },
     "metadata": {},
     "output_type": "display_data"
    }
   ],
   "source": [
    "airline_1"
   ]
  },
  {
   "cell_type": "code",
   "execution_count": 5,
   "metadata": {},
   "outputs": [
    {
     "data": {
      "text/plain": [
       "    Period            Region  Revenue..USD.     \n",
       " FY2015:6   Africa       :2   Min.   :8.00e+06  \n",
       " FY2016:6   Asia         :2   1st Qu.:1.90e+07  \n",
       "            Australia    :2   Median :5.80e+07  \n",
       "            Europe       :2   Mean   :6.45e+07  \n",
       "            North America:2   3rd Qu.:1.02e+08  \n",
       "            South America:2   Max.   :1.50e+08  "
      ]
     },
     "metadata": {},
     "output_type": "display_data"
    }
   ],
   "source": [
    "summary(airline_1)"
   ]
  },
  {
   "cell_type": "code",
   "execution_count": 3,
   "metadata": {},
   "outputs": [],
   "source": [
    "airline_2 <- read.csv(url('https://raw.githubusercontent.com/ma010/misc/master/airline2.csv'))"
   ]
  },
  {
   "cell_type": "code",
   "execution_count": 6,
   "metadata": {},
   "outputs": [
    {
     "data": {
      "text/plain": [
       "    Period        Region  Revenue..USD.      \n",
       " FY2015:4   Africa   :2   Min.   : 10500000  \n",
       " FY2016:4   Asia     :2   1st Qu.: 24750000  \n",
       "            Australia:2   Median : 37500000  \n",
       "            Europe   :2   Mean   : 43562500  \n",
       "                          3rd Qu.: 55000000  \n",
       "                          Max.   :100000000  "
      ]
     },
     "metadata": {},
     "output_type": "display_data"
    }
   ],
   "source": [
    "summary(airline_2)"
   ]
  },
  {
   "cell_type": "code",
   "execution_count": null,
   "metadata": {},
   "outputs": [],
   "source": []
  }
 ],
 "metadata": {
  "kernelspec": {
   "display_name": "R",
   "language": "R",
   "name": "ir"
  },
  "language_info": {
   "codemirror_mode": "r",
   "file_extension": ".r",
   "mimetype": "text/x-r-source",
   "name": "R",
   "pygments_lexer": "r",
   "version": "3.4.4"
  }
 },
 "nbformat": 4,
 "nbformat_minor": 2
}
