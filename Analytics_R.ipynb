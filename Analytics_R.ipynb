{
 "cells": [
  {
   "cell_type": "code",
   "execution_count": 1,
   "metadata": {},
   "outputs": [],
   "source": [
    "airline_1 <- read.csv(url('https://raw.githubusercontent.com/ma010/misc/master/airline1.csv'))"
   ]
  },
  {
   "cell_type": "code",
   "execution_count": 2,
   "metadata": {},
   "outputs": [
    {
     "data": {
      "text/html": [
       "<table>\n",
       "<thead><tr><th scope=col>Period</th><th scope=col>Region</th><th scope=col>Revenue..USD.</th></tr></thead>\n",
       "<tbody>\n",
       "\t<tr><td>FY2015       </td><td>Africa       </td><td> 10000000    </td></tr>\n",
       "\t<tr><td>FY2015       </td><td>Asia         </td><td> 20000000    </td></tr>\n",
       "\t<tr><td>FY2015       </td><td>Australia    </td><td> 70000000    </td></tr>\n",
       "\t<tr><td>FY2015       </td><td>Europe       </td><td>120000000    </td></tr>\n",
       "\t<tr><td>FY2015       </td><td>North America</td><td>150000000    </td></tr>\n",
       "\t<tr><td>FY2015       </td><td>South America</td><td> 60000000    </td></tr>\n",
       "\t<tr><td>FY2016       </td><td>Africa       </td><td>  8000000    </td></tr>\n",
       "\t<tr><td>FY2016       </td><td>Asia         </td><td> 16000000    </td></tr>\n",
       "\t<tr><td>FY2016       </td><td>Australia    </td><td> 56000000    </td></tr>\n",
       "\t<tr><td>FY2016       </td><td>Europe       </td><td> 96000000    </td></tr>\n",
       "\t<tr><td>FY2016       </td><td>North America</td><td>120000000    </td></tr>\n",
       "\t<tr><td>FY2016       </td><td>South America</td><td> 48000000    </td></tr>\n",
       "</tbody>\n",
       "</table>\n"
      ],
      "text/latex": [
       "\\begin{tabular}{r|lll}\n",
       " Period & Region & Revenue..USD.\\\\\n",
       "\\hline\n",
       "\t FY2015        & Africa        &  10000000    \\\\\n",
       "\t FY2015        & Asia          &  20000000    \\\\\n",
       "\t FY2015        & Australia     &  70000000    \\\\\n",
       "\t FY2015        & Europe        & 120000000    \\\\\n",
       "\t FY2015        & North America & 150000000    \\\\\n",
       "\t FY2015        & South America &  60000000    \\\\\n",
       "\t FY2016        & Africa        &   8000000    \\\\\n",
       "\t FY2016        & Asia          &  16000000    \\\\\n",
       "\t FY2016        & Australia     &  56000000    \\\\\n",
       "\t FY2016        & Europe        &  96000000    \\\\\n",
       "\t FY2016        & North America & 120000000    \\\\\n",
       "\t FY2016        & South America &  48000000    \\\\\n",
       "\\end{tabular}\n"
      ],
      "text/markdown": [
       "\n",
       "| Period | Region | Revenue..USD. |\n",
       "|---|---|---|\n",
       "| FY2015        | Africa        |  10000000     |\n",
       "| FY2015        | Asia          |  20000000     |\n",
       "| FY2015        | Australia     |  70000000     |\n",
       "| FY2015        | Europe        | 120000000     |\n",
       "| FY2015        | North America | 150000000     |\n",
       "| FY2015        | South America |  60000000     |\n",
       "| FY2016        | Africa        |   8000000     |\n",
       "| FY2016        | Asia          |  16000000     |\n",
       "| FY2016        | Australia     |  56000000     |\n",
       "| FY2016        | Europe        |  96000000     |\n",
       "| FY2016        | North America | 120000000     |\n",
       "| FY2016        | South America |  48000000     |\n",
       "\n"
      ],
      "text/plain": [
       "   Period Region        Revenue..USD.\n",
       "1  FY2015 Africa         10000000    \n",
       "2  FY2015 Asia           20000000    \n",
       "3  FY2015 Australia      70000000    \n",
       "4  FY2015 Europe        120000000    \n",
       "5  FY2015 North America 150000000    \n",
       "6  FY2015 South America  60000000    \n",
       "7  FY2016 Africa          8000000    \n",
       "8  FY2016 Asia           16000000    \n",
       "9  FY2016 Australia      56000000    \n",
       "10 FY2016 Europe         96000000    \n",
       "11 FY2016 North America 120000000    \n",
       "12 FY2016 South America  48000000    "
      ]
     },
     "metadata": {},
     "output_type": "display_data"
    }
   ],
   "source": [
    "airline_1"
   ]
  },
  {
   "cell_type": "code",
   "execution_count": 4,
   "metadata": {},
   "outputs": [
    {
     "data": {
      "text/html": [
       "'data.frame'"
      ],
      "text/latex": [
       "'data.frame'"
      ],
      "text/markdown": [
       "'data.frame'"
      ],
      "text/plain": [
       "[1] \"data.frame\""
      ]
     },
     "metadata": {},
     "output_type": "display_data"
    }
   ],
   "source": [
    "class(airline_1)"
   ]
  },
  {
   "cell_type": "code",
   "execution_count": 13,
   "metadata": {},
   "outputs": [],
   "source": [
    "df_agg <- aggregate(airline_1[, 3], list(airline_1$Region), mean)"
   ]
  },
  {
   "cell_type": "code",
   "execution_count": 19,
   "metadata": {},
   "outputs": [
    {
     "data": {
      "text/html": [
       "<table>\n",
       "<thead><tr><th scope=col>Group.1</th><th scope=col>x</th></tr></thead>\n",
       "<tbody>\n",
       "\t<tr><td>Africa       </td><td>9.00e+06     </td></tr>\n",
       "\t<tr><td>Asia         </td><td>1.80e+07     </td></tr>\n",
       "\t<tr><td>Australia    </td><td>6.30e+07     </td></tr>\n",
       "\t<tr><td>Europe       </td><td>1.08e+08     </td></tr>\n",
       "\t<tr><td>North America</td><td>1.35e+08     </td></tr>\n",
       "\t<tr><td>South America</td><td>5.40e+07     </td></tr>\n",
       "</tbody>\n",
       "</table>\n"
      ],
      "text/latex": [
       "\\begin{tabular}{r|ll}\n",
       " Group.1 & x\\\\\n",
       "\\hline\n",
       "\t Africa        & 9.00e+06     \\\\\n",
       "\t Asia          & 1.80e+07     \\\\\n",
       "\t Australia     & 6.30e+07     \\\\\n",
       "\t Europe        & 1.08e+08     \\\\\n",
       "\t North America & 1.35e+08     \\\\\n",
       "\t South America & 5.40e+07     \\\\\n",
       "\\end{tabular}\n"
      ],
      "text/markdown": [
       "\n",
       "| Group.1 | x |\n",
       "|---|---|\n",
       "| Africa        | 9.00e+06      |\n",
       "| Asia          | 1.80e+07      |\n",
       "| Australia     | 6.30e+07      |\n",
       "| Europe        | 1.08e+08      |\n",
       "| North America | 1.35e+08      |\n",
       "| South America | 5.40e+07      |\n",
       "\n"
      ],
      "text/plain": [
       "  Group.1       x       \n",
       "1 Africa        9.00e+06\n",
       "2 Asia          1.80e+07\n",
       "3 Australia     6.30e+07\n",
       "4 Europe        1.08e+08\n",
       "5 North America 1.35e+08\n",
       "6 South America 5.40e+07"
      ]
     },
     "metadata": {},
     "output_type": "display_data"
    }
   ],
   "source": [
    "df_agg"
   ]
  },
  {
   "cell_type": "code",
   "execution_count": 18,
   "metadata": {},
   "outputs": [
    {
     "data": {
      "text/html": [
       "<ol>\n",
       "\t<li>9e+06</li>\n",
       "\t<li>1.8e+07</li>\n",
       "\t<li>6.3e+07</li>\n",
       "\t<li>1.08e+08</li>\n",
       "\t<li>1.35e+08</li>\n",
       "\t<li>5.4e+07</li>\n",
       "</ol>\n"
      ],
      "text/latex": [
       "\\begin{enumerate}\n",
       "\\item 9e+06\n",
       "\\item 1.8e+07\n",
       "\\item 6.3e+07\n",
       "\\item 1.08e+08\n",
       "\\item 1.35e+08\n",
       "\\item 5.4e+07\n",
       "\\end{enumerate}\n"
      ],
      "text/markdown": [
       "1. 9e+06\n",
       "2. 1.8e+07\n",
       "3. 6.3e+07\n",
       "4. 1.08e+08\n",
       "5. 1.35e+08\n",
       "6. 5.4e+07\n",
       "\n",
       "\n"
      ],
      "text/plain": [
       "[[1]]\n",
       "[1] 9e+06\n",
       "\n",
       "[[2]]\n",
       "[1] 1.8e+07\n",
       "\n",
       "[[3]]\n",
       "[1] 6.3e+07\n",
       "\n",
       "[[4]]\n",
       "[1] 1.08e+08\n",
       "\n",
       "[[5]]\n",
       "[1] 1.35e+08\n",
       "\n",
       "[[6]]\n",
       "[1] 5.4e+07\n"
      ]
     },
     "metadata": {},
     "output_type": "display_data"
    }
   ],
   "source": [
    "lapply(df_agg[, 2], round, 0)"
   ]
  },
  {
   "cell_type": "code",
   "execution_count": 20,
   "metadata": {},
   "outputs": [],
   "source": [
    "airline_2 <- read.csv(url('https://raw.githubusercontent.com/ma010/misc/master/airline2.csv'))"
   ]
  },
  {
   "cell_type": "code",
   "execution_count": 21,
   "metadata": {},
   "outputs": [
    {
     "data": {
      "text/html": [
       "<table>\n",
       "<thead><tr><th scope=col>Period</th><th scope=col>Region</th><th scope=col>Revenue..USD.</th></tr></thead>\n",
       "<tbody>\n",
       "\t<tr><td>FY2015   </td><td>Africa   </td><td> 15000000</td></tr>\n",
       "\t<tr><td>FY2015   </td><td>Asia     </td><td>100000000</td></tr>\n",
       "\t<tr><td>FY2015   </td><td>Australia</td><td> 50000000</td></tr>\n",
       "\t<tr><td>FY2015   </td><td>Europe   </td><td> 40000000</td></tr>\n",
       "\t<tr><td>FY2016   </td><td>Africa   </td><td> 10500000</td></tr>\n",
       "\t<tr><td>FY2016   </td><td>Asia     </td><td> 70000000</td></tr>\n",
       "\t<tr><td>FY2016   </td><td>Australia</td><td> 35000000</td></tr>\n",
       "\t<tr><td>FY2016   </td><td>Europe   </td><td> 28000000</td></tr>\n",
       "</tbody>\n",
       "</table>\n"
      ],
      "text/latex": [
       "\\begin{tabular}{r|lll}\n",
       " Period & Region & Revenue..USD.\\\\\n",
       "\\hline\n",
       "\t FY2015    & Africa    &  15000000\\\\\n",
       "\t FY2015    & Asia      & 100000000\\\\\n",
       "\t FY2015    & Australia &  50000000\\\\\n",
       "\t FY2015    & Europe    &  40000000\\\\\n",
       "\t FY2016    & Africa    &  10500000\\\\\n",
       "\t FY2016    & Asia      &  70000000\\\\\n",
       "\t FY2016    & Australia &  35000000\\\\\n",
       "\t FY2016    & Europe    &  28000000\\\\\n",
       "\\end{tabular}\n"
      ],
      "text/markdown": [
       "\n",
       "| Period | Region | Revenue..USD. |\n",
       "|---|---|---|\n",
       "| FY2015    | Africa    |  15000000 |\n",
       "| FY2015    | Asia      | 100000000 |\n",
       "| FY2015    | Australia |  50000000 |\n",
       "| FY2015    | Europe    |  40000000 |\n",
       "| FY2016    | Africa    |  10500000 |\n",
       "| FY2016    | Asia      |  70000000 |\n",
       "| FY2016    | Australia |  35000000 |\n",
       "| FY2016    | Europe    |  28000000 |\n",
       "\n"
      ],
      "text/plain": [
       "  Period Region    Revenue..USD.\n",
       "1 FY2015 Africa     15000000    \n",
       "2 FY2015 Asia      100000000    \n",
       "3 FY2015 Australia  50000000    \n",
       "4 FY2015 Europe     40000000    \n",
       "5 FY2016 Africa     10500000    \n",
       "6 FY2016 Asia       70000000    \n",
       "7 FY2016 Australia  35000000    \n",
       "8 FY2016 Europe     28000000    "
      ]
     },
     "metadata": {},
     "output_type": "display_data"
    }
   ],
   "source": [
    "airline_2"
   ]
  },
  {
   "cell_type": "code",
   "execution_count": 23,
   "metadata": {},
   "outputs": [
    {
     "data": {
      "text/html": [
       "<table>\n",
       "<thead><tr><th scope=col>Group.1</th><th scope=col>x</th></tr></thead>\n",
       "<tbody>\n",
       "\t<tr><td>Africa   </td><td> 15000000</td></tr>\n",
       "\t<tr><td>Asia     </td><td>100000000</td></tr>\n",
       "\t<tr><td>Australia</td><td> 50000000</td></tr>\n",
       "\t<tr><td>Europe   </td><td> 40000000</td></tr>\n",
       "</tbody>\n",
       "</table>\n"
      ],
      "text/latex": [
       "\\begin{tabular}{r|ll}\n",
       " Group.1 & x\\\\\n",
       "\\hline\n",
       "\t Africa    &  15000000\\\\\n",
       "\t Asia      & 100000000\\\\\n",
       "\t Australia &  50000000\\\\\n",
       "\t Europe    &  40000000\\\\\n",
       "\\end{tabular}\n"
      ],
      "text/markdown": [
       "\n",
       "| Group.1 | x |\n",
       "|---|---|\n",
       "| Africa    |  15000000 |\n",
       "| Asia      | 100000000 |\n",
       "| Australia |  50000000 |\n",
       "| Europe    |  40000000 |\n",
       "\n"
      ],
      "text/plain": [
       "  Group.1   x        \n",
       "1 Africa     15000000\n",
       "2 Asia      100000000\n",
       "3 Australia  50000000\n",
       "4 Europe     40000000"
      ]
     },
     "metadata": {},
     "output_type": "display_data"
    }
   ],
   "source": [
    "aggregate(airline_2[, 3], list(airline_2$Region), max)"
   ]
  },
  {
   "cell_type": "code",
   "execution_count": 26,
   "metadata": {},
   "outputs": [],
   "source": [
    "df_merged <- merge(airline_1, airline_2, by=c('Period', 'Region'))"
   ]
  },
  {
   "cell_type": "code",
   "execution_count": 29,
   "metadata": {},
   "outputs": [
    {
     "data": {
      "text/html": [
       "<table>\n",
       "<thead><tr><th scope=col>Period</th><th scope=col>Region</th><th scope=col>Revenue..USD..x</th><th scope=col>Revenue..USD..y</th></tr></thead>\n",
       "<tbody>\n",
       "\t<tr><td>FY2015   </td><td>Africa   </td><td> 10000000</td><td> 15000000</td></tr>\n",
       "\t<tr><td>FY2015   </td><td>Asia     </td><td> 20000000</td><td>100000000</td></tr>\n",
       "\t<tr><td>FY2015   </td><td>Australia</td><td> 70000000</td><td> 50000000</td></tr>\n",
       "\t<tr><td>FY2015   </td><td>Europe   </td><td>120000000</td><td> 40000000</td></tr>\n",
       "\t<tr><td>FY2016   </td><td>Africa   </td><td>  8000000</td><td> 10500000</td></tr>\n",
       "\t<tr><td>FY2016   </td><td>Asia     </td><td> 16000000</td><td> 70000000</td></tr>\n",
       "\t<tr><td>FY2016   </td><td>Australia</td><td> 56000000</td><td> 35000000</td></tr>\n",
       "\t<tr><td>FY2016   </td><td>Europe   </td><td> 96000000</td><td> 28000000</td></tr>\n",
       "</tbody>\n",
       "</table>\n"
      ],
      "text/latex": [
       "\\begin{tabular}{r|llll}\n",
       " Period & Region & Revenue..USD..x & Revenue..USD..y\\\\\n",
       "\\hline\n",
       "\t FY2015    & Africa    &  10000000 &  15000000\\\\\n",
       "\t FY2015    & Asia      &  20000000 & 100000000\\\\\n",
       "\t FY2015    & Australia &  70000000 &  50000000\\\\\n",
       "\t FY2015    & Europe    & 120000000 &  40000000\\\\\n",
       "\t FY2016    & Africa    &   8000000 &  10500000\\\\\n",
       "\t FY2016    & Asia      &  16000000 &  70000000\\\\\n",
       "\t FY2016    & Australia &  56000000 &  35000000\\\\\n",
       "\t FY2016    & Europe    &  96000000 &  28000000\\\\\n",
       "\\end{tabular}\n"
      ],
      "text/markdown": [
       "\n",
       "| Period | Region | Revenue..USD..x | Revenue..USD..y |\n",
       "|---|---|---|---|\n",
       "| FY2015    | Africa    |  10000000 |  15000000 |\n",
       "| FY2015    | Asia      |  20000000 | 100000000 |\n",
       "| FY2015    | Australia |  70000000 |  50000000 |\n",
       "| FY2015    | Europe    | 120000000 |  40000000 |\n",
       "| FY2016    | Africa    |   8000000 |  10500000 |\n",
       "| FY2016    | Asia      |  16000000 |  70000000 |\n",
       "| FY2016    | Australia |  56000000 |  35000000 |\n",
       "| FY2016    | Europe    |  96000000 |  28000000 |\n",
       "\n"
      ],
      "text/plain": [
       "  Period Region    Revenue..USD..x Revenue..USD..y\n",
       "1 FY2015 Africa     10000000        15000000      \n",
       "2 FY2015 Asia       20000000       100000000      \n",
       "3 FY2015 Australia  70000000        50000000      \n",
       "4 FY2015 Europe    120000000        40000000      \n",
       "5 FY2016 Africa      8000000        10500000      \n",
       "6 FY2016 Asia       16000000        70000000      \n",
       "7 FY2016 Australia  56000000        35000000      \n",
       "8 FY2016 Europe     96000000        28000000      "
      ]
     },
     "metadata": {},
     "output_type": "display_data"
    }
   ],
   "source": [
    "df_merged"
   ]
  },
  {
   "cell_type": "code",
   "execution_count": 28,
   "metadata": {},
   "outputs": [
    {
     "data": {
      "text/html": [
       "<ol class=list-inline>\n",
       "\t<li>25000000</li>\n",
       "\t<li>120000000</li>\n",
       "\t<li>120000000</li>\n",
       "\t<li>160000000</li>\n",
       "\t<li>18500000</li>\n",
       "\t<li>86000000</li>\n",
       "\t<li>91000000</li>\n",
       "\t<li>124000000</li>\n",
       "</ol>\n"
      ],
      "text/latex": [
       "\\begin{enumerate*}\n",
       "\\item 25000000\n",
       "\\item 120000000\n",
       "\\item 120000000\n",
       "\\item 160000000\n",
       "\\item 18500000\n",
       "\\item 86000000\n",
       "\\item 91000000\n",
       "\\item 124000000\n",
       "\\end{enumerate*}\n"
      ],
      "text/markdown": [
       "1. 25000000\n",
       "2. 120000000\n",
       "3. 120000000\n",
       "4. 160000000\n",
       "5. 18500000\n",
       "6. 86000000\n",
       "7. 91000000\n",
       "8. 124000000\n",
       "\n",
       "\n"
      ],
      "text/plain": [
       "[1]  25000000 120000000 120000000 160000000  18500000  86000000  91000000\n",
       "[8] 124000000"
      ]
     },
     "metadata": {},
     "output_type": "display_data"
    }
   ],
   "source": [
    "df_merged[, 3] + df_merged[, 4]"
   ]
  },
  {
   "cell_type": "code",
   "execution_count": null,
   "metadata": {},
   "outputs": [],
   "source": []
  }
 ],
 "metadata": {
  "kernelspec": {
   "display_name": "R",
   "language": "R",
   "name": "ir"
  },
  "language_info": {
   "codemirror_mode": "r",
   "file_extension": ".r",
   "mimetype": "text/x-r-source",
   "name": "R",
   "pygments_lexer": "r",
   "version": "3.4.4"
  }
 },
 "nbformat": 4,
 "nbformat_minor": 2
}
